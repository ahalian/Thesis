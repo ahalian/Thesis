{
 "cells": [
  {
   "cell_type": "markdown",
   "id": "eca36227",
   "metadata": {},
   "source": [
    "# Adding social and economic data"
   ]
  },
  {
   "cell_type": "code",
   "execution_count": 89,
   "id": "42acf032",
   "metadata": {},
   "outputs": [],
   "source": [
    "import pandas as pd\n"
   ]
  },
  {
   "cell_type": "code",
   "execution_count": 75,
   "id": "8ab13726",
   "metadata": {},
   "outputs": [],
   "source": [
    "emp = pd.read_excel('soc-econ/emp.xlsx')\n",
    "selected_indicators = ['Уровень безработицы: Уровень безработицы']\n",
    "\n",
    "emp = emp[emp[\"indicator_name\"].isin(selected_indicators)]\n",
    "emp = emp[emp[\"year\"] == 2021]\n",
    "emp = emp[[\"object_name\", \"indicator_value\", \"indicator_name\"]]\n",
    "emp = emp.pivot(index = 'object_name', columns= 'indicator_name', values = 'indicator_value')\n",
    "emp.columns = [\"unemp\"]"
   ]
  },
  {
   "cell_type": "code",
   "execution_count": 76,
   "id": "a4ff9540",
   "metadata": {},
   "outputs": [],
   "source": [
    "inc = pd.read_excel('soc-econ/inc.xlsx')\n",
    "selected_indicators = ['Численность населения с денежными доходами ниже границы бедности/величины прожиточного минимума',\n",
    "                       'Медианный среднедушевой денежный доход населения']\n",
    "inc = inc[inc[\"indicator_name\"].isin(selected_indicators)]\n",
    "inc = inc[inc[\"year\"] == 2021]\n",
    "inc = inc[[\"object_name\", \"indicator_value\", \"indicator_name\"]]\n",
    "inc = inc.pivot(index = 'object_name', columns= 'indicator_name', values = 'indicator_value')\n",
    "inc.columns = ['median_income', \"share_poverty\"]"
   ]
  },
  {
   "cell_type": "code",
   "execution_count": 90,
   "id": "4ae94fa3",
   "metadata": {},
   "outputs": [],
   "source": [
    "nat = pd.read_excel(\"soc-econ/ethnic_composition.xlsx\", sheet_name=None)\n",
    "russian_percentages = {}\n",
    "\n",
    "for region, data in nat.items():\n",
    "    total_row = data[data.iloc[:, 0].str.contains(\"Указавшие национальную принадлежность\", na=False)]\n",
    "    total_population = total_row.iloc[0, 1] if not total_row.empty else None\n",
    "    \n",
    "    russian_row = data[data.iloc[:, 0].str.startswith(\"Русские\", na=False)]\n",
    "    russian_population = russian_row.iloc[0, 1] if not russian_row.empty else None\n",
    "    \n",
    "    if total_population and russian_population:\n",
    "        percentage = (russian_population / total_population)*100\n",
    "        russian_percentages[region] = round(percentage, 2)\n",
    "    else:\n",
    "        russian_percentages[region] = \"NA\"\n",
    "\n",
    "df_rus = pd.DataFrame.from_dict(russian_percentages, orient='index', columns=['% Russians'])\n",
    "df_rus.index.name = 'Region'\n",
    "df_rus.reset_index(inplace=True)\n",
    "\n",
    "region_name_mapping = {\n",
    "    'Архангельская область без автономного округа': 'Архангельская область без АО',\n",
    "    'Ненецкий автономный округ': 'Ненецкий АО',\n",
    "    'Кемеровская область - Кузбасс': 'Кемеровская область',\n",
    "    'г. Москва' : 'Москва',\n",
    "    'г. Санкт-Петербург': 'Санкт-Петербург',\n",
    "    'г. Севастополь': 'Севастополь',\n",
    "    'Еврейская автономная область': 'Еврейская АО',\n",
    "    'Кабардино-Балкарская Республика': 'Кабардино-Балкария',\n",
    "    'Карачаево-Черкесская Республика': 'Карачаево-Черкесия',\n",
    "    'Республика Адыгея (Адыгея)': 'Республика Адыгея',\n",
    "    'Республика Саха (Якутия)': 'Якутия',\n",
    "    'РСО-Алания': 'Северная Осетия',\n",
    "    'Республика Татарстан (Татарстан)': 'Республика Татарстан',\n",
    "    'Чувашская Республика - Чувашия': 'Чувашская Республика',\n",
    "    'Тюменская область без автономных округов': 'Тюменская область без АО',\n",
    "    'ХМАО' : 'Ханты-Мансийский АО',\n",
    "    'ЯНАО' : 'Ямало-Hенецкий АО',\n",
    "    'Чукотский автономный округ': 'Чукотский АО',\n",
    "}\n",
    "\n",
    "df_rus[\"Region\"] = df_rus[\"Region\"].replace(region_name_mapping)"
   ]
  },
  {
   "cell_type": "code",
   "execution_count": 78,
   "id": "8203f7c0",
   "metadata": {},
   "outputs": [],
   "source": [
    "df_se = emp.merge(inc, on = 'object_name', how = 'left')\n",
    "df_se.index.name = \"Region\"\n",
    "df_se = df_se.reset_index()\n",
    "\n",
    "region_name_mapping = {\n",
    "    'Архангельская область без автономного округа': 'Архангельская область без АО',\n",
    "    'Ненецкий автономный округ': 'Ненецкий АО',\n",
    "    'Еврейская автономная область':'Еврейская АО',\n",
    "    'Кемеровская область - Кузбасс': 'Кемеровская область',\n",
    "    'Город Москва столица Российской Федерации город федерального значения': 'Москва',\n",
    "    'Город Санкт-Петербург город федерального значения': 'Санкт-Петербург',\n",
    "    'Город федерального значения Севастополь': 'Севастополь',\n",
    "    'Еврейская автономная область': 'Еврейская АО',\n",
    "    'Кабардино-Балкарская Республика': 'Кабардино-Балкария',\n",
    "    'Карачаево-Черкесская Республика': 'Карачаево-Черкесия',\n",
    "    'Республика Адыгея (Адыгея)': 'Республика Адыгея',\n",
    "    'Республика Саха (Якутия)': 'Якутия',\n",
    "    'Республика Северная Осетия — Алания': 'Северная Осетия',\n",
    "    'Республика Татарстан (Татарстан)': 'Республика Татарстан',\n",
    "    'Чувашская Республика - Чувашия': 'Чувашская Республика',\n",
    "    'Тюменская область без автономных округов': 'Тюменская область без АО',\n",
    "    'Ханты-Мансийский автономный округ — Югра': 'Ханты-Мансийский АО',\n",
    "    'Ямало-Ненецкий автономный округ': 'Ямало-Hенецкий АО',\n",
    "    'Чукотский автономный округ': 'Чукотский АО',\n",
    "}\n",
    "\n",
    "df_se[\"Region\"] = df_se[\"Region\"].replace(region_name_mapping)"
   ]
  },
  {
   "cell_type": "code",
   "execution_count": 92,
   "id": "54d24b27",
   "metadata": {},
   "outputs": [],
   "source": [
    "df_full = df_rus.merge(df_se, on = 'Region', how = 'left')\n",
    "df_full.to_csv(\"intermediate/soc_econ_data.csv\")"
   ]
  }
 ],
 "metadata": {
  "kernelspec": {
   "display_name": "epp",
   "language": "python",
   "name": "python3"
  },
  "language_info": {
   "codemirror_mode": {
    "name": "ipython",
    "version": 3
   },
   "file_extension": ".py",
   "mimetype": "text/x-python",
   "name": "python",
   "nbconvert_exporter": "python",
   "pygments_lexer": "ipython3",
   "version": "3.11.0"
  }
 },
 "nbformat": 4,
 "nbformat_minor": 5
}
